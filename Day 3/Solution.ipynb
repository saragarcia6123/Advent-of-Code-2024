{
 "cells": [
  {
   "cell_type": "code",
   "execution_count": 1,
   "id": "a86e9dbb-faed-414f-814e-3c634095e9c3",
   "metadata": {},
   "outputs": [],
   "source": [
    "import regex as re"
   ]
  },
  {
   "cell_type": "code",
   "execution_count": 2,
   "id": "830c287d-9dc7-4ba3-97bc-c4b3526ea716",
   "metadata": {},
   "outputs": [],
   "source": [
    "with open('input.txt', 'r') as file:\n",
    "    text = file.read()"
   ]
  },
  {
   "cell_type": "markdown",
   "id": "b6977e2b-922c-44bc-bdf3-e87cd6880e2f",
   "metadata": {},
   "source": [
    "# Part 1"
   ]
  },
  {
   "cell_type": "code",
   "execution_count": 4,
   "id": "61bb9609-fc97-4e71-ab03-6b7f9df21458",
   "metadata": {},
   "outputs": [],
   "source": [
    "muls = re.findall(r'mul\\((?:[^()]*|(?R))\\)', text)"
   ]
  },
  {
   "cell_type": "code",
   "execution_count": 5,
   "id": "265850d2-aa92-488c-840d-2a4b261f95e3",
   "metadata": {},
   "outputs": [
    {
     "data": {
      "text/plain": [
       "746"
      ]
     },
     "execution_count": 5,
     "metadata": {},
     "output_type": "execute_result"
    }
   ],
   "source": [
    "len(muls)"
   ]
  },
  {
   "cell_type": "code",
   "execution_count": 6,
   "id": "e07b30c8-15be-41b2-b895-1751a5c5bab8",
   "metadata": {},
   "outputs": [],
   "source": [
    "contents = [re.search(r'\\((.*?)\\)', m).group(1) if re.search(r'\\((.*?)\\)', m) else None for m in muls]"
   ]
  },
  {
   "cell_type": "code",
   "execution_count": 7,
   "id": "3aa364a6-f35a-4012-ae7f-04d35d27b2b0",
   "metadata": {},
   "outputs": [],
   "source": [
    "valids = [s for s in contents if re.match(r'^\\d+,\\d+$', s)]"
   ]
  },
  {
   "cell_type": "code",
   "execution_count": 8,
   "id": "e1e6235a-8156-4987-9478-f3c1b75a3f1b",
   "metadata": {},
   "outputs": [],
   "source": [
    "def mul(a, b):\n",
    "    return int(a) * int(b)"
   ]
  },
  {
   "cell_type": "code",
   "execution_count": 9,
   "id": "73c01847-19af-4c57-b24e-be277f0d2633",
   "metadata": {},
   "outputs": [],
   "source": [
    "results = [mul(*map(int, s.split(','))) for s in valids]"
   ]
  },
  {
   "cell_type": "code",
   "execution_count": 15,
   "id": "803fb344-28df-4d5a-8eda-3f6f52f2db78",
   "metadata": {},
   "outputs": [
    {
     "data": {
      "text/plain": [
       "745"
      ]
     },
     "execution_count": 15,
     "metadata": {},
     "output_type": "execute_result"
    }
   ],
   "source": [
    "len(results)"
   ]
  },
  {
   "cell_type": "code",
   "execution_count": 10,
   "id": "26340759-352e-4bea-8590-1b794e4325a2",
   "metadata": {},
   "outputs": [
    {
     "data": {
      "text/plain": [
       "178538786"
      ]
     },
     "execution_count": 10,
     "metadata": {},
     "output_type": "execute_result"
    }
   ],
   "source": [
    "sum(results)"
   ]
  },
  {
   "cell_type": "markdown",
   "id": "7cb6769a-5fa7-4a9d-b3cb-0f6555bcf2f2",
   "metadata": {},
   "source": [
    "---"
   ]
  },
  {
   "cell_type": "markdown",
   "id": "80a30937-124f-48e6-9cd2-80df50c6eb2d",
   "metadata": {},
   "source": [
    "# Part 2"
   ]
  },
  {
   "cell_type": "code",
   "execution_count": 102,
   "id": "eabe2f0e-2165-445d-886e-d52b841d4531",
   "metadata": {},
   "outputs": [],
   "source": [
    "def split_text_with_muls(text):\n",
    "    pattern = re.compile(r'mul\\((?:[^()]*|(?R))*\\)')\n",
    "    matches = pattern.finditer(text)\n",
    "\n",
    "    parts = []\n",
    "    mul_indexes = []\n",
    "    last_end = 0\n",
    "    for match in matches:\n",
    "        start, end = match.span()\n",
    "        if last_end < start:\n",
    "            parts.append(text[last_end:start])\n",
    "        mul_content = match.group()\n",
    "        inner_match = re.search(r'\\((.*?)\\)', mul_content)\n",
    "        if inner_match and re.match(r'^\\d+,\\d+$', inner_match.group(1)):\n",
    "            parts.append(mul_content)\n",
    "            mul_indexes.append(len(parts) - 1)\n",
    "        last_end = end\n",
    "    if last_end < len(text):\n",
    "        parts.append(text[last_end:])\n",
    "\n",
    "    return parts, mul_indexes"
   ]
  },
  {
   "cell_type": "code",
   "execution_count": 103,
   "id": "cd6840fd-14bb-4187-9a71-583e377c4739",
   "metadata": {},
   "outputs": [],
   "source": [
    "muls, indexes = split_text_with_muls(text)"
   ]
  },
  {
   "cell_type": "code",
   "execution_count": 105,
   "id": "11b38577-5b70-49fa-9540-10f7513a7447",
   "metadata": {},
   "outputs": [],
   "source": [
    "contents_2 = [re.search(r'\\((.*?)\\)', m).group(1) if i in indexes else m for i, m in enumerate(muls)]"
   ]
  },
  {
   "cell_type": "code",
   "execution_count": 111,
   "id": "7fa0e76b-d0a8-4eb7-bc5f-977274f08853",
   "metadata": {},
   "outputs": [],
   "source": [
    "contents_2_muls = [mul(*map(int, s.split(','))) if i in indexes else s for i, s in enumerate(contents_2)]"
   ]
  },
  {
   "cell_type": "code",
   "execution_count": 112,
   "id": "b09466d8-41ef-44b4-971c-c69e9a985578",
   "metadata": {},
   "outputs": [],
   "source": [
    "for i, row in enumerate(contents_2_muls):\n",
    "    if i in indexes:\n",
    "        continue\n",
    "        \n",
    "    has_do = bool(re.search(r'\\bdo\\(\\)', row))\n",
    "    has_dont = bool(re.search(r\"\\bdon't\\(\\)\", row))\n",
    "\n",
    "    if has_do:\n",
    "        contents_2_muls[i] = True\n",
    "\n",
    "    if has_dont:\n",
    "        contents_2_muls[i] = False\n",
    "\n",
    "    if not has_do and not has_dont:\n",
    "        contents_2_muls[i] = None"
   ]
  },
  {
   "cell_type": "code",
   "execution_count": 117,
   "id": "32ceff60-cfdf-43c7-8537-a74eabd91366",
   "metadata": {},
   "outputs": [],
   "source": [
    "enabled = True\n",
    "total = 0\n",
    "for row in contents_2_muls:\n",
    "    if row == False:\n",
    "        enabled = False\n",
    "    elif row == True:\n",
    "        enabled = True\n",
    "    elif row is not None and enabled == True:\n",
    "        total += int(row)"
   ]
  },
  {
   "cell_type": "code",
   "execution_count": 118,
   "id": "1a472de4-b359-47fa-843b-5f910c03f67e",
   "metadata": {},
   "outputs": [
    {
     "data": {
      "text/plain": [
       "102467299"
      ]
     },
     "execution_count": 118,
     "metadata": {},
     "output_type": "execute_result"
    }
   ],
   "source": [
    "total"
   ]
  }
 ],
 "metadata": {
  "kernelspec": {
   "display_name": "Python (projectenv)",
   "language": "python",
   "name": "projectenv"
  },
  "language_info": {
   "codemirror_mode": {
    "name": "ipython",
    "version": 3
   },
   "file_extension": ".py",
   "mimetype": "text/x-python",
   "name": "python",
   "nbconvert_exporter": "python",
   "pygments_lexer": "ipython3",
   "version": "3.12.7"
  }
 },
 "nbformat": 4,
 "nbformat_minor": 5
}
