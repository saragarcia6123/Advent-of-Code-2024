{
 "cells": [
  {
   "cell_type": "code",
   "execution_count": 228,
   "id": "4c8ea49e-d1b6-40dc-89b6-42068c2cb970",
   "metadata": {},
   "outputs": [],
   "source": [
    "with open('input.txt', 'r') as file:\n",
    "    conditions, sequences = file.read().split('--')"
   ]
  },
  {
   "cell_type": "code",
   "execution_count": 229,
   "id": "224feb9f-abae-44bf-9b65-b8a88f76fc93",
   "metadata": {},
   "outputs": [],
   "source": [
    "conditions = conditions.splitlines()\n",
    "sequences = sequences.splitlines()[1:]"
   ]
  },
  {
   "cell_type": "code",
   "execution_count": 230,
   "id": "00a3e819-f5e3-42cb-aea7-9729545c683c",
   "metadata": {},
   "outputs": [],
   "source": [
    "conditions = [tuple(c.split('|')) for c in conditions]"
   ]
  },
  {
   "cell_type": "code",
   "execution_count": 231,
   "id": "0833963c-6fd8-4de8-9592-668f687b43d3",
   "metadata": {},
   "outputs": [],
   "source": [
    "sequences = [seq.split(',') for seq in sequences]"
   ]
  },
  {
   "cell_type": "code",
   "execution_count": 232,
   "id": "2dadb9c1-950e-4fd2-8193-ad94604ff636",
   "metadata": {},
   "outputs": [],
   "source": [
    "def validate_sequence(sequence: list) -> bool:\n",
    "    for n1, n2 in conditions:\n",
    "        if n1 in sequence and n2 in sequence:\n",
    "            if sequence.index(n1) > sequence.index(n2):\n",
    "                return False\n",
    "    return True"
   ]
  },
  {
   "cell_type": "markdown",
   "id": "3fa85c24-4664-4251-b8fe-766a493ec1eb",
   "metadata": {},
   "source": [
    "## Part 1"
   ]
  },
  {
   "cell_type": "code",
   "execution_count": 233,
   "id": "124306a2-18a9-42c5-a68c-e6cfbf790a73",
   "metadata": {},
   "outputs": [],
   "source": [
    "valid_sequences = []\n",
    "for sequence in sequences:\n",
    "    if validate_sequence(sequence):\n",
    "        valid_sequences.append(sequence)"
   ]
  },
  {
   "cell_type": "code",
   "execution_count": 234,
   "id": "b7c6fe39-1604-4c30-9ed5-74f027bae2fd",
   "metadata": {},
   "outputs": [],
   "source": [
    "def get_middle_val(sequence):\n",
    "    mid_index = len(sequence)//2\n",
    "    return int(sequence[mid_index])"
   ]
  },
  {
   "cell_type": "code",
   "execution_count": 235,
   "id": "92319325-8365-44b0-a43b-887abc4127b9",
   "metadata": {},
   "outputs": [],
   "source": [
    "middle_page_nums = [get_middle_val(seq) for seq in valid_sequences] "
   ]
  },
  {
   "cell_type": "code",
   "execution_count": 236,
   "id": "2a89e73b-bfae-469b-8ced-b9e6ade4ffdc",
   "metadata": {},
   "outputs": [
    {
     "data": {
      "text/plain": [
       "6034"
      ]
     },
     "execution_count": 236,
     "metadata": {},
     "output_type": "execute_result"
    }
   ],
   "source": [
    "sum(middle_page_nums)"
   ]
  },
  {
   "cell_type": "markdown",
   "id": "745062ad-24d9-480f-83f5-b1171af5d8aa",
   "metadata": {},
   "source": [
    "## Part 2"
   ]
  },
  {
   "cell_type": "code",
   "execution_count": 237,
   "id": "f67508de-605b-49bd-9d86-228b957b67ed",
   "metadata": {},
   "outputs": [],
   "source": [
    "invalid_sequences = []\n",
    "for sequence in sequences:\n",
    "    if not validate_sequence(sequence):\n",
    "        invalid_sequences.append(sequence)"
   ]
  },
  {
   "cell_type": "code",
   "execution_count": 238,
   "id": "e18995ac-a0fa-4272-b9ae-74f91159eb3c",
   "metadata": {},
   "outputs": [],
   "source": [
    "from collections import defaultdict, deque"
   ]
  },
  {
   "cell_type": "code",
   "execution_count": 239,
   "id": "6cb73bef-c0c3-4490-90e9-b5c56678a6a0",
   "metadata": {},
   "outputs": [],
   "source": [
    "graph = defaultdict(list)\n",
    "in_degree = defaultdict(int)\n",
    "\n",
    "for a, b in conditions:\n",
    "    graph[a].append(b)\n",
    "    in_degree[b] += 1\n",
    "    if a not in in_degree:\n",
    "        in_degree[a] = 0"
   ]
  },
  {
   "cell_type": "code",
   "execution_count": 240,
   "id": "55129549-355e-48ca-8913-e8b68811f25a",
   "metadata": {},
   "outputs": [],
   "source": [
    "def topological_sort(sequence):\n",
    "    sub_graph = defaultdict(list)\n",
    "    sub_in_degree = defaultdict(int)\n",
    "    \n",
    "    for a, b in conditions:\n",
    "        if a in sequence and b in sequence:\n",
    "            sub_graph[a].append(b)\n",
    "            sub_in_degree[b] += 1\n",
    "            if a not in sub_in_degree:\n",
    "                sub_in_degree[a] = 0\n",
    "    \n",
    "    order = []\n",
    "    queue = deque([node for node in sequence if sub_in_degree[node] == 0])\n",
    "    \n",
    "    while queue:\n",
    "        node = queue.popleft()\n",
    "        order.append(node)\n",
    "        \n",
    "        for neighbor in sub_graph[node]:\n",
    "            sub_in_degree[neighbor] -= 1\n",
    "            if sub_in_degree[neighbor] == 0:\n",
    "                queue.append(neighbor)\n",
    "    \n",
    "    return order"
   ]
  },
  {
   "cell_type": "code",
   "execution_count": 241,
   "id": "d4718628-dffc-4842-8176-e454bea26765",
   "metadata": {},
   "outputs": [],
   "source": [
    "def reorder_sequences(sequences):\n",
    "    for i, sequence in enumerate(sequences):\n",
    "        ordered = topological_sort(sequence)\n",
    "        sequences[i] = ordered\n",
    "    return sequences"
   ]
  },
  {
   "cell_type": "code",
   "execution_count": 242,
   "id": "c590ca23-5db1-4344-8cba-6f7a861230ab",
   "metadata": {},
   "outputs": [],
   "source": [
    "reordered_sequences = reorder_sequences(invalid_sequences)"
   ]
  },
  {
   "cell_type": "code",
   "execution_count": 243,
   "id": "f311991e-b2b1-4eb0-a445-c58ce39dc5a7",
   "metadata": {},
   "outputs": [],
   "source": [
    "middle_page_nums = [get_middle_val(seq) for seq in list(reordered_sequences)] "
   ]
  },
  {
   "cell_type": "code",
   "execution_count": 245,
   "id": "44528bdb-1bc0-4aa7-89c6-3507c75a8a47",
   "metadata": {},
   "outputs": [
    {
     "data": {
      "text/plain": [
       "6305"
      ]
     },
     "execution_count": 245,
     "metadata": {},
     "output_type": "execute_result"
    }
   ],
   "source": [
    "sum(middle_page_nums)"
   ]
  }
 ],
 "metadata": {
  "kernelspec": {
   "display_name": "Python 3 (ipykernel)",
   "language": "python",
   "name": "python3"
  },
  "language_info": {
   "codemirror_mode": {
    "name": "ipython",
    "version": 3
   },
   "file_extension": ".py",
   "mimetype": "text/x-python",
   "name": "python",
   "nbconvert_exporter": "python",
   "pygments_lexer": "ipython3",
   "version": "3.13.0"
  }
 },
 "nbformat": 4,
 "nbformat_minor": 5
}
