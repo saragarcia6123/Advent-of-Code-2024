{
 "cells": [
  {
   "cell_type": "code",
   "execution_count": 2,
   "id": "5e15403d-2070-4e60-86fd-478d31fbf679",
   "metadata": {},
   "outputs": [],
   "source": [
    "import pandas as pd"
   ]
  },
  {
   "cell_type": "code",
   "execution_count": 3,
   "id": "544fb54f-8665-42aa-8c6d-9ed57807a59e",
   "metadata": {},
   "outputs": [],
   "source": [
    "inputs_df = pd.read_csv('inputs.csv')"
   ]
  },
  {
   "cell_type": "markdown",
   "id": "90cd679c-c02f-4909-a366-3cfa2ef767ac",
   "metadata": {},
   "source": [
    "## Part 1"
   ]
  },
  {
   "cell_type": "code",
   "execution_count": 4,
   "id": "3b2e2c9f-1272-42ed-97e3-a528a99fb976",
   "metadata": {},
   "outputs": [],
   "source": [
    "results_p1 = pd.DataFrame()"
   ]
  },
  {
   "cell_type": "code",
   "execution_count": 10,
   "id": "269aea32-3dab-4bbd-852b-38361825fe3b",
   "metadata": {},
   "outputs": [],
   "source": [
    "def get_asc_dec_lists(df: pd.DataFrame()):\n",
    "    df_asc = pd.DataFrame(df.apply(lambda row: sorted([x for x in row if pd.notna(x)]), axis=1).tolist(), index=df.index)\n",
    "    df_dec = pd.DataFrame(df.apply(lambda row: sorted([x for x in row if pd.notna(x)], reverse=True), axis=1).tolist(), index=df.index)\n",
    "\n",
    "    og_lists = df.apply(lambda row: [x for x in row if pd.notna(x)], axis=1).tolist()\n",
    "    asc_lists = df_asc.apply(lambda row: [x for x in row if pd.notna(x)], axis=1).tolist()\n",
    "    dec_lists = df_dec.apply(lambda row: [x for x in row if pd.notna(x)], axis=1).tolist()\n",
    "    \n",
    "    return og_lists, asc_lists, dec_lists"
   ]
  },
  {
   "cell_type": "code",
   "execution_count": 11,
   "id": "1c8eea7d-5615-4077-adf0-a5bf2abec58f",
   "metadata": {},
   "outputs": [],
   "source": [
    "og_lists, asc_lists, dec_lists = get_asc_dec_lists(inputs_df)"
   ]
  },
  {
   "cell_type": "code",
   "execution_count": 12,
   "id": "ed096a40-ba23-4489-a392-693cac57d408",
   "metadata": {},
   "outputs": [],
   "source": [
    "results_p1['flag_1'] = [row == asc_lists[i] or row == dec_lists[i] for i, row in enumerate(og_lists)]"
   ]
  },
  {
   "cell_type": "code",
   "execution_count": 13,
   "id": "242e8611-277b-42ae-9eaa-72dd362e18e3",
   "metadata": {},
   "outputs": [],
   "source": [
    "def get_mins_maxs(asc_lists):\n",
    "    mins = [min(row[i+1] - row[i] for i in range(len(row)-1)) for row in asc_lists]\n",
    "    maxs = [max(row[i+1] - row[i] for i in range(len(row)-1)) for row in asc_lists]\n",
    "    return mins, maxs"
   ]
  },
  {
   "cell_type": "code",
   "execution_count": 14,
   "id": "03099dcd-7b63-4570-a941-49900150a574",
   "metadata": {},
   "outputs": [],
   "source": [
    "mins, maxs = get_mins_maxs(asc_lists)"
   ]
  },
  {
   "cell_type": "code",
   "execution_count": 15,
   "id": "1dd160bd-d940-4b2f-81f7-3651d106686a",
   "metadata": {},
   "outputs": [],
   "source": [
    "results_p1['flag_2'] = [min_diff >= 1 and max_diff <= 3 for min_diff, max_diff in zip(mins, maxs)]"
   ]
  },
  {
   "cell_type": "code",
   "execution_count": 16,
   "id": "fd157a3b-d266-49b9-a01a-61a944879173",
   "metadata": {},
   "outputs": [],
   "source": [
    "results_p1['safe'] = results_p1['flag_1'] & results_p1['flag_2']"
   ]
  },
  {
   "cell_type": "code",
   "execution_count": 17,
   "id": "3b4469b9-6ade-4ec8-a657-7bfe8c43a58c",
   "metadata": {},
   "outputs": [],
   "source": [
    "total_safe = results_p1[results_p1['safe'] == True].shape[0]"
   ]
  },
  {
   "cell_type": "code",
   "execution_count": 42,
   "id": "4448be12-e3f8-4f07-95da-3469e15c8b26",
   "metadata": {},
   "outputs": [
    {
     "name": "stdout",
     "output_type": "stream",
     "text": [
      "Safe reports: 606\n"
     ]
    }
   ],
   "source": [
    "print(f'Safe reports: {total_safe}')"
   ]
  },
  {
   "cell_type": "markdown",
   "id": "d324d2e8-6df5-4d89-9d5a-eff5150e9039",
   "metadata": {},
   "source": [
    "## Part 2"
   ]
  },
  {
   "cell_type": "code",
   "execution_count": 29,
   "id": "ecd5d836-89b6-44b4-9aef-f81112725f09",
   "metadata": {},
   "outputs": [],
   "source": [
    "results_p2 = pd.DataFrame()"
   ]
  },
  {
   "cell_type": "code",
   "execution_count": 19,
   "id": "034203b3-b8ad-488e-8983-65cbc04af42f",
   "metadata": {},
   "outputs": [],
   "source": [
    "unsafe_indexes = results_p1[results_p1['safe'] == False].index"
   ]
  },
  {
   "cell_type": "code",
   "execution_count": 24,
   "id": "b6bdb7de-9f76-4bb2-99e6-c5a7aeef6923",
   "metadata": {},
   "outputs": [],
   "source": [
    "og_lists_unsafe, asc_lists_unsafe, dec_lists_unsafe = get_asc_dec_lists(unsafe_df)"
   ]
  },
  {
   "cell_type": "code",
   "execution_count": 43,
   "id": "094f1124-9358-43fc-a2d2-f98a96b5e439",
   "metadata": {},
   "outputs": [
    {
     "data": {
      "text/plain": [
       "(394, 394, 394)"
      ]
     },
     "execution_count": 43,
     "metadata": {},
     "output_type": "execute_result"
    }
   ],
   "source": [
    "len(og_lists_unsafe), len(asc_lists_unsafe), len(dec_lists_unsafe)"
   ]
  },
  {
   "cell_type": "code",
   "execution_count": 22,
   "id": "8ba6430b-901e-4c85-a9e5-f2221afb9e0e",
   "metadata": {},
   "outputs": [],
   "source": [
    "unsafe_df = inputs_df.loc[unsafe_indexes]"
   ]
  },
  {
   "cell_type": "code",
   "execution_count": 44,
   "id": "e2067497-5a77-4c4d-9817-e36eecff7d98",
   "metadata": {},
   "outputs": [],
   "source": [
    "p2_flag_1 = []\n",
    "for row in og_lists_unsafe:\n",
    "\n",
    "    flag_1 = []\n",
    "    for i in range(len(row)):\n",
    "        modified_row = row[:i] + row[i+1:]\n",
    "\n",
    "        if modified_row == sorted(modified_row) or modified_row == sorted(modified_row, reverse=True):\n",
    "            flag_1.append(i)\n",
    "\n",
    "    p2_flag_1.append(flag_1)"
   ]
  },
  {
   "cell_type": "code",
   "execution_count": 45,
   "id": "67e25be5-f303-4498-a30b-c2d20d08ecad",
   "metadata": {},
   "outputs": [],
   "source": [
    "results_p2['flag_1'] = p2_flag_1"
   ]
  },
  {
   "cell_type": "code",
   "execution_count": 49,
   "id": "2887748a-4158-4aba-a94f-46bfa665c11a",
   "metadata": {},
   "outputs": [],
   "source": [
    "p2_flag_2 = []\n",
    "for row in og_lists_unsafe:\n",
    "\n",
    "    flag_2 = []\n",
    "    for i in range(len(row)):\n",
    "        modified_row = row[:i] + row[i+1:]\n",
    "        modified_asc = sorted(modified_row)\n",
    "        \n",
    "        min_diff = min(modified_asc[i+1] - modified_asc[i] for i in range(len(modified_asc) - 1))\n",
    "        max_diff = max(modified_asc[i+1] - modified_asc[i] for i in range(len(modified_asc) - 1))\n",
    "\n",
    "        if min_diff >= 1 and max_diff <= 3:\n",
    "            flag_2.append(i)\n",
    "\n",
    "    p2_flag_2.append(flag_2)"
   ]
  },
  {
   "cell_type": "code",
   "execution_count": 50,
   "id": "a1179c23-8d28-404a-9bf0-7da2305179b3",
   "metadata": {},
   "outputs": [],
   "source": [
    "results_p2['flag_2'] = p2_flag_2"
   ]
  },
  {
   "cell_type": "code",
   "execution_count": 51,
   "id": "f03e9dec-abd5-43b1-8718-167cffbdf1f9",
   "metadata": {},
   "outputs": [],
   "source": [
    "results_p2['safe'] = results_p2.apply(lambda row: bool(set(row['flag_1']) & set(row['flag_2'])), axis=1)"
   ]
  },
  {
   "cell_type": "code",
   "execution_count": 52,
   "id": "40ed43c1-cf75-4eb1-9314-9ebea8c874bc",
   "metadata": {},
   "outputs": [],
   "source": [
    "total_safe_2 = results_p2['safe'].sum()"
   ]
  },
  {
   "cell_type": "code",
   "execution_count": 53,
   "id": "f1423785-ac78-4bbc-8b36-b3dae1f5c88f",
   "metadata": {},
   "outputs": [
    {
     "name": "stdout",
     "output_type": "stream",
     "text": [
      "New safe reports: 644\n"
     ]
    }
   ],
   "source": [
    "print(f'New safe reports: {total_safe_2 + total_safe}')"
   ]
  }
 ],
 "metadata": {
  "kernelspec": {
   "display_name": "Python 3 (ipykernel)",
   "language": "python",
   "name": "python3"
  },
  "language_info": {
   "codemirror_mode": {
    "name": "ipython",
    "version": 3
   },
   "file_extension": ".py",
   "mimetype": "text/x-python",
   "name": "python",
   "nbconvert_exporter": "python",
   "pygments_lexer": "ipython3",
   "version": "3.13.0"
  }
 },
 "nbformat": 4,
 "nbformat_minor": 5
}
