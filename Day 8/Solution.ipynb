{
 "cells": [
  {
   "cell_type": "code",
   "execution_count": 1,
   "id": "b6dbe5db-061c-4670-9df0-62d79aaf502a",
   "metadata": {},
   "outputs": [],
   "source": [
    "with open('input.txt', 'r') as file:\n",
    "    _input = file.read()"
   ]
  },
  {
   "cell_type": "code",
   "execution_count": null,
   "id": "ddbd2194-6bc5-4784-a988-d565b46d51dc",
   "metadata": {},
   "outputs": [],
   "source": [
    "# ping each antinode to each antenna\n",
    "# measure the distance\n",
    "# check if there is or would be an antinode at double the distance"
   ]
  }
 ],
 "metadata": {
  "kernelspec": {
   "display_name": "Python 3 (ipykernel)",
   "language": "python",
   "name": "python3"
  },
  "language_info": {
   "codemirror_mode": {
    "name": "ipython",
    "version": 3
   },
   "file_extension": ".py",
   "mimetype": "text/x-python",
   "name": "python",
   "nbconvert_exporter": "python",
   "pygments_lexer": "ipython3",
   "version": "3.13.0"
  }
 },
 "nbformat": 4,
 "nbformat_minor": 5
}
