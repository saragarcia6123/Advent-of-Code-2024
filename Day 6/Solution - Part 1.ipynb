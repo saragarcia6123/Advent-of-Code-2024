{
 "cells": [
  {
   "cell_type": "code",
   "execution_count": 56,
   "id": "d4cf9b9f-778a-4882-8ca8-b334e6e321c6",
   "metadata": {},
   "outputs": [],
   "source": [
    "with open('input.txt', 'r') as file:\n",
    "    initial_map = file.read().splitlines()"
   ]
  },
  {
   "cell_type": "code",
   "execution_count": 57,
   "id": "0df8b7ab-902b-4003-ac58-5555eca4cda5",
   "metadata": {},
   "outputs": [],
   "source": [
    "_map = [row[:] for row in initial_map]"
   ]
  },
  {
   "cell_type": "code",
   "execution_count": 58,
   "id": "5469aaee-eff7-4987-9149-d23a6e73f6e9",
   "metadata": {},
   "outputs": [],
   "source": [
    "def find_position(_map, value):\n",
    "    for y, row in enumerate(_map):\n",
    "        for x, column in enumerate(row):\n",
    "            if column == value:\n",
    "                return y, x\n",
    "    return None"
   ]
  },
  {
   "cell_type": "code",
   "execution_count": 59,
   "id": "87085056-e1ae-411d-b707-c0b67139f147",
   "metadata": {},
   "outputs": [],
   "source": [
    "def get_current_pos_dir():\n",
    "    possible_dirs = ['<', '^', '>', 'v']\n",
    "    for value in possible_dirs:\n",
    "        pos = find_position(_map, value)\n",
    "        if pos:\n",
    "            pos_y, pos_x = pos\n",
    "            return pos_y, pos_x, value"
   ]
  },
  {
   "cell_type": "code",
   "execution_count": 60,
   "id": "cdad382a-d930-446d-a019-90c23147a839",
   "metadata": {},
   "outputs": [],
   "source": [
    "pos_y, pos_x, current_dir = get_current_pos_dir()\n",
    "finished = False"
   ]
  },
  {
   "cell_type": "code",
   "execution_count": 61,
   "id": "69de3d93-3342-4a15-bf45-e1971a2a2468",
   "metadata": {},
   "outputs": [],
   "source": [
    "def has_finished():\n",
    "    return ((pos_x == 0 and current_dir == '<') \\\n",
    "        or (pos_x == len(_map[0])-1 and current_dir == '>') \\\n",
    "        or (pos_y == 0 and current_dir == '^') \\\n",
    "        or (pos_y == len(_map)-1 and current_dir == 'v'))"
   ]
  },
  {
   "cell_type": "code",
   "execution_count": 62,
   "id": "a12ac954-55db-41cc-aaa7-e795a5c7882b",
   "metadata": {},
   "outputs": [],
   "source": [
    "def get_cell_facing():\n",
    "    if current_dir == '<':\n",
    "        return pos_x-1, pos_y\n",
    "    elif current_dir ==  '>':\n",
    "        return pos_x+1, pos_y\n",
    "    elif current_dir ==  '^':\n",
    "        return pos_x, pos_y-1\n",
    "    elif current_dir == 'v':\n",
    "        return pos_x, pos_y+1"
   ]
  },
  {
   "cell_type": "code",
   "execution_count": 63,
   "id": "c730522a-fef5-4a2f-a3aa-95109ad0b3bc",
   "metadata": {},
   "outputs": [],
   "source": [
    "def has_obstacle():\n",
    "    cf_x, cf_y = get_cell_facing()\n",
    "    return _map[cf_y][cf_x] == '#'"
   ]
  },
  {
   "cell_type": "code",
   "execution_count": 64,
   "id": "7a42b4c5-f26e-47d2-b7cb-d6dca242b985",
   "metadata": {},
   "outputs": [],
   "source": [
    "def turn_right():\n",
    "    global current_dir\n",
    "    if current_dir == '<':\n",
    "        current_dir = '^'\n",
    "    elif current_dir ==  '^':\n",
    "        current_dir = '>'\n",
    "    elif current_dir ==  '>':\n",
    "        current_dir = 'v'\n",
    "    elif current_dir == 'v':\n",
    "        current_dir = '<'"
   ]
  },
  {
   "cell_type": "code",
   "execution_count": 65,
   "id": "ac8c1556-2f62-4fb2-bb65-6fd92c86aed8",
   "metadata": {},
   "outputs": [],
   "source": [
    "def set_visited():\n",
    "    _map[pos_y] = _map[pos_y][:pos_x] + 'X' + _map[pos_y][pos_x+1:]"
   ]
  },
  {
   "cell_type": "code",
   "execution_count": 66,
   "id": "e24ba9a0-5ccb-4cca-8534-d22f195f4b1e",
   "metadata": {},
   "outputs": [],
   "source": [
    "def move_forward():\n",
    "    global pos_x, pos_y\n",
    "    if current_dir == '<':\n",
    "        pos_x -= 1\n",
    "    elif current_dir == '>':\n",
    "        pos_x += 1\n",
    "    elif current_dir == '^':\n",
    "        pos_y -= 1\n",
    "    elif current_dir == 'v':\n",
    "        pos_y += 1"
   ]
  },
  {
   "cell_type": "code",
   "execution_count": 67,
   "id": "e937476c-3612-47b0-ba84-4cb4db4dfe6f",
   "metadata": {},
   "outputs": [],
   "source": [
    "while not finished:\n",
    "    if has_obstacle():\n",
    "        turn_right()\n",
    "    else:\n",
    "        move_forward()\n",
    "        set_visited()\n",
    "    if has_finished():\n",
    "        finished = True"
   ]
  },
  {
   "cell_type": "code",
   "execution_count": 68,
   "id": "f2c687cc-4967-4a8c-8cd6-230846c88fda",
   "metadata": {},
   "outputs": [],
   "source": [
    "def get_total_visited():\n",
    "    return sum(row.count('X') for row in _map)"
   ]
  },
  {
   "cell_type": "code",
   "execution_count": 69,
   "id": "aec7648e-295d-4ddd-9d1f-5b5676dde900",
   "metadata": {},
   "outputs": [
    {
     "data": {
      "text/plain": [
       "41"
      ]
     },
     "execution_count": 69,
     "metadata": {},
     "output_type": "execute_result"
    }
   ],
   "source": [
    "get_total_visited()"
   ]
  }
 ],
 "metadata": {
  "kernelspec": {
   "display_name": "Python 3 (ipykernel)",
   "language": "python",
   "name": "python3"
  },
  "language_info": {
   "codemirror_mode": {
    "name": "ipython",
    "version": 3
   },
   "file_extension": ".py",
   "mimetype": "text/x-python",
   "name": "python",
   "nbconvert_exporter": "python",
   "pygments_lexer": "ipython3",
   "version": "3.13.0"
  }
 },
 "nbformat": 4,
 "nbformat_minor": 5
}
