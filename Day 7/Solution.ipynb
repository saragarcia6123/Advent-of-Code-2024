{
 "cells": [
  {
   "cell_type": "code",
   "execution_count": 3,
   "id": "8e09a4e1-6fba-4206-94c3-948dbe043acb",
   "metadata": {},
   "outputs": [],
   "source": [
    "with open('input.txt', 'r') as file:\n",
    "    inputs = file.readlines()"
   ]
  },
  {
   "cell_type": "markdown",
   "id": "9554d78c-1fa6-401e-aa3d-4805de7d609c",
   "metadata": {},
   "source": [
    "## Part 1"
   ]
  },
  {
   "cell_type": "code",
   "execution_count": 53,
   "id": "28d7f9a1-2bcc-40a3-b87c-d4abce086df2",
   "metadata": {},
   "outputs": [],
   "source": [
    "def evaluate(target, sequence):\n",
    "    def generate_combinations(current, depth):\n",
    "        if depth == len(sequence) - 1:\n",
    "            result = sequence[0]\n",
    "            for i in range(len(current)):\n",
    "                if current[i] == '+':\n",
    "                    result += sequence[i + 1]\n",
    "                elif current[i] == '*':\n",
    "                    result *= sequence[i + 1]\n",
    "            if result == target:\n",
    "                return current\n",
    "            return None\n",
    "        for op in ['+', '*']:\n",
    "            found = generate_combinations(current + [op], depth + 1)\n",
    "            if found:\n",
    "                return found\n",
    "        return None\n",
    "\n",
    "    combination = generate_combinations([], 0)\n",
    "    if combination:\n",
    "        expression = f\"{sequence[0]}\"\n",
    "        for i, op in enumerate(combination):\n",
    "            expression += f\" {op} {sequence[i + 1]}\"\n",
    "        return target\n",
    "    else:\n",
    "        return 0"
   ]
  },
  {
   "cell_type": "code",
   "execution_count": 54,
   "id": "ace07769-8aa4-45bc-9e40-9ba808106758",
   "metadata": {},
   "outputs": [
    {
     "name": "stdout",
     "output_type": "stream",
     "text": [
      "Total: 1038838357795\n"
     ]
    }
   ],
   "source": [
    "total = 0\n",
    "for line in inputs:\n",
    "    target, sequence = line.split(':')\n",
    "    sequence = sequence.strip().split(' ')\n",
    "    sequence = [int(num) for num in sequence]\n",
    "    total += evaluate(int(target), sequence)\n",
    "print(\"Total:\", total)"
   ]
  },
  {
   "cell_type": "markdown",
   "id": "7bfaa844-d191-424a-819a-b96e86789ecb",
   "metadata": {},
   "source": [
    "## Part 2"
   ]
  },
  {
   "cell_type": "code",
   "execution_count": 55,
   "id": "6cb86df8-abf9-4e26-ad45-e1e89ba1e897",
   "metadata": {},
   "outputs": [],
   "source": [
    "def evaluate(target, sequence):\n",
    "    def generate_combinations(current, depth):\n",
    "        if depth == len(sequence) - 1:\n",
    "            result = sequence[0]\n",
    "            for i in range(len(current)):\n",
    "                if current[i] == '+':\n",
    "                    result += sequence[i + 1]\n",
    "                elif current[i] == '*':\n",
    "                    result *= sequence[i + 1]\n",
    "                elif current[i] == '||':\n",
    "                    result = int(str(result) + str(sequence[i + 1]))\n",
    "            if result == target:\n",
    "                return current\n",
    "            return None\n",
    "        for op in ['+', '*', '||']:\n",
    "            found = generate_combinations(current + [op], depth + 1)\n",
    "            if found:\n",
    "                return found\n",
    "        return None\n",
    "\n",
    "    combination = generate_combinations([], 0)\n",
    "    if combination:\n",
    "        expression = f\"{sequence[0]}\"\n",
    "        for i, op in enumerate(combination):\n",
    "            expression += f\" {op} {sequence[i + 1]}\"\n",
    "        return target\n",
    "    else:\n",
    "        return 0"
   ]
  },
  {
   "cell_type": "code",
   "execution_count": 56,
   "id": "106e16a8-229b-48c2-af78-59dbfcad22de",
   "metadata": {},
   "outputs": [
    {
     "name": "stdout",
     "output_type": "stream",
     "text": [
      "Total: 254136560217241\n"
     ]
    }
   ],
   "source": [
    "total = 0\n",
    "for line in inputs:\n",
    "    target, sequence = line.split(':')\n",
    "    sequence = sequence.strip().split(' ')\n",
    "    sequence = [int(num) for num in sequence]\n",
    "    total += evaluate(int(target), sequence)\n",
    "print(\"Total:\", total)"
   ]
  },
  {
   "cell_type": "code",
   "execution_count": null,
   "id": "d5d79b11-ff1f-4bec-a0d2-71aa454f3d04",
   "metadata": {},
   "outputs": [],
   "source": []
  }
 ],
 "metadata": {
  "kernelspec": {
   "display_name": "Python 3 (ipykernel)",
   "language": "python",
   "name": "python3"
  },
  "language_info": {
   "codemirror_mode": {
    "name": "ipython",
    "version": 3
   },
   "file_extension": ".py",
   "mimetype": "text/x-python",
   "name": "python",
   "nbconvert_exporter": "python",
   "pygments_lexer": "ipython3",
   "version": "3.13.0"
  }
 },
 "nbformat": 4,
 "nbformat_minor": 5
}
