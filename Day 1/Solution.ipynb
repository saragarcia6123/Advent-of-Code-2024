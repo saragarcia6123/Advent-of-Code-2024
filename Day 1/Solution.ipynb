{
 "cells": [
  {
   "cell_type": "code",
   "execution_count": 92,
   "id": "7c7b8f8f-0dc6-4500-93e6-a92db0821560",
   "metadata": {},
   "outputs": [],
   "source": [
    "import pandas as pd\n",
    "pd.options.mode.chained_assignment = None"
   ]
  },
  {
   "cell_type": "code",
   "execution_count": 93,
   "id": "225883a7-8211-4b14-8678-27d2e04f7c81",
   "metadata": {},
   "outputs": [],
   "source": [
    "df = pd.read_csv('inputs.csv')"
   ]
  },
  {
   "cell_type": "markdown",
   "id": "d26dee4e-7dc4-4b43-88f0-046241965d74",
   "metadata": {},
   "source": [
    "## Part One"
   ]
  },
  {
   "cell_type": "code",
   "execution_count": 94,
   "id": "8307e46f-4609-42dd-ae03-38b590d59fba",
   "metadata": {},
   "outputs": [],
   "source": [
    "df = df.apply(lambda x: x.sort_values().reset_index(drop=True))"
   ]
  },
  {
   "cell_type": "code",
   "execution_count": 95,
   "id": "145ebd98-6bb9-4afc-945a-bef8aebb37cf",
   "metadata": {},
   "outputs": [],
   "source": [
    "df['difference'] = (df['row_1'] - df['row_2']).abs()"
   ]
  },
  {
   "cell_type": "code",
   "execution_count": 96,
   "id": "74d7f83a-5264-4ea2-9ad8-623dfc12ee90",
   "metadata": {},
   "outputs": [
    {
     "data": {
      "text/plain": [
       "3714264"
      ]
     },
     "execution_count": 96,
     "metadata": {},
     "output_type": "execute_result"
    }
   ],
   "source": [
    "df['difference'].sum()"
   ]
  },
  {
   "cell_type": "markdown",
   "id": "e2add0eb-0c0c-4177-b133-738aed474610",
   "metadata": {},
   "source": [
    "## Part Two"
   ]
  },
  {
   "cell_type": "code",
   "execution_count": 97,
   "id": "ec0b75a4-8e54-4a13-b738-c676926c1635",
   "metadata": {},
   "outputs": [],
   "source": [
    "sim_df = pd.DataFrame()\n",
    "sim_df['num'] = df['row_1']"
   ]
  },
  {
   "cell_type": "code",
   "execution_count": 98,
   "id": "565c5607-52a5-4566-a7ee-3f51aea45b53",
   "metadata": {},
   "outputs": [],
   "source": [
    "counts_df = df['row_2'].value_counts().reset_index()\n",
    "counts_df.columns = ['num', 'count']"
   ]
  },
  {
   "cell_type": "code",
   "execution_count": 99,
   "id": "daaa4e4b-f18a-466b-9c53-0eb380f1cb5f",
   "metadata": {},
   "outputs": [],
   "source": [
    "sim_df = sim_df.merge(counts_df[['num', 'count']], on='num', how='left')"
   ]
  },
  {
   "cell_type": "code",
   "execution_count": 100,
   "id": "6122bf88-3d75-4cdc-8009-7be99a222915",
   "metadata": {},
   "outputs": [],
   "source": [
    "sim_df_filtered = sim_df.dropna(subset=['count'])"
   ]
  },
  {
   "cell_type": "code",
   "execution_count": 101,
   "id": "0e2410a4-e1c3-42fe-af79-d02b1e5fc17c",
   "metadata": {},
   "outputs": [],
   "source": [
    "sim_df_filtered['product'] = sim_df_filtered['num'] * sim_df_filtered['count']"
   ]
  },
  {
   "cell_type": "code",
   "execution_count": 102,
   "id": "ed34d15b-a1f9-4cc0-9da9-dd4f3eae2ba0",
   "metadata": {
    "scrolled": true
   },
   "outputs": [
    {
     "data": {
      "text/plain": [
       "18805872.0"
      ]
     },
     "execution_count": 102,
     "metadata": {},
     "output_type": "execute_result"
    }
   ],
   "source": [
    "sim_df_filtered['product'].sum()"
   ]
  }
 ],
 "metadata": {
  "kernelspec": {
   "display_name": "Python (projectenv)",
   "language": "python",
   "name": "projectenv"
  },
  "language_info": {
   "codemirror_mode": {
    "name": "ipython",
    "version": 3
   },
   "file_extension": ".py",
   "mimetype": "text/x-python",
   "name": "python",
   "nbconvert_exporter": "python",
   "pygments_lexer": "ipython3",
   "version": "3.12.7"
  }
 },
 "nbformat": 4,
 "nbformat_minor": 5
}
