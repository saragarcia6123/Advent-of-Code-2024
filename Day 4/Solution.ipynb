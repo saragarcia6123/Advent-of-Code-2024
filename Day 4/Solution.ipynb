{
 "cells": [
  {
   "cell_type": "code",
   "execution_count": 2,
   "id": "ed460b39-0284-4037-928a-4efa0c1be8db",
   "metadata": {},
   "outputs": [],
   "source": [
    "import re"
   ]
  },
  {
   "cell_type": "code",
   "execution_count": 5,
   "id": "f88b1170-a789-4472-bac6-12c58a8e5e79",
   "metadata": {},
   "outputs": [],
   "source": [
    "with open('input.txt', 'r') as file:\n",
    "    text = file.read()\n",
    "lines = text.splitlines()"
   ]
  },
  {
   "cell_type": "markdown",
   "id": "1493c829-36ee-4339-b4e0-a43ef8085fb0",
   "metadata": {},
   "source": [
    "# Part 1"
   ]
  },
  {
   "cell_type": "code",
   "execution_count": 10,
   "id": "4cd6a136-945b-43be-930d-57def497b639",
   "metadata": {},
   "outputs": [],
   "source": [
    "def find_vertical(grid):\n",
    "    vertical_lines = [''.join(row[i] for row in grid) for i in range(len(grid[0]))]\n",
    "    count = sum(len(re.findall('XMAS', line)) for line in vertical_lines)\n",
    "    count2 = sum(len(re.findall('SAMX', line)) for line in vertical_lines)\n",
    "    return count + count2\n",
    "\n",
    "def find_horizontal(grid):\n",
    "    count = sum(line.count('XMAS') for line in grid)\n",
    "    count2 = sum(line.count('SAMX') for line in grid)\n",
    "    return count + count2\n",
    "\n",
    "def find_diagonal(grid):\n",
    "    def extract_diagonals(grid):\n",
    "        diagonals = []\n",
    "        for i in range(len(grid)):\n",
    "            diagonals.append(''.join(grid[i + k][k] for k in range(min(len(grid) - i, len(grid[0])))))\n",
    "        for j in range(1, len(grid[0])):\n",
    "            diagonals.append(''.join(grid[k][j + k] for k in range(min(len(grid), len(grid[0]) - j))))\n",
    "        return diagonals\n",
    "\n",
    "    diagonals = extract_diagonals(grid) + extract_diagonals([row[::-1] for row in grid])\n",
    "    count = sum(len(re.findall('XMAS', line)) for line in diagonals)\n",
    "    count2 = sum(len(re.findall('SAMX', line)) for line in diagonals)\n",
    "    return count + count2"
   ]
  },
  {
   "cell_type": "code",
   "execution_count": 11,
   "id": "8cf0aed1-0294-4db9-9308-80c6f134a1f8",
   "metadata": {},
   "outputs": [],
   "source": [
    "vertical = find_vertical(lines)\n",
    "horizontal = find_horizontal(lines)\n",
    "diagonal = find_diagonal(lines)"
   ]
  },
  {
   "cell_type": "code",
   "execution_count": 12,
   "id": "a0da9d41-07f4-4bd6-8fdc-bace13628bc9",
   "metadata": {},
   "outputs": [
    {
     "data": {
      "text/plain": [
       "2603"
      ]
     },
     "execution_count": 12,
     "metadata": {},
     "output_type": "execute_result"
    }
   ],
   "source": [
    "vertical + horizontal + diagonal"
   ]
  },
  {
   "cell_type": "markdown",
   "id": "7cf2d0a8-4b43-4043-afed-d67c3e4d3086",
   "metadata": {},
   "source": [
    "# Part 2"
   ]
  },
  {
   "cell_type": "code",
   "execution_count": 21,
   "id": "7d7b7999-f061-4648-ae4e-13acba546e7c",
   "metadata": {},
   "outputs": [],
   "source": [
    "def find_crosses(grid):\n",
    "    count = 0\n",
    "    rows = len(grid)\n",
    "    cols = len(grid[0])\n",
    "\n",
    "    for i in range(1, rows - 1):\n",
    "        for j in range(1, cols - 1):\n",
    "            if grid[i][j] == 'A':\n",
    "                if (grid[i-1][j-1] == 'M' and grid[i+1][j+1] == 'S') or (grid[i-1][j-1] == 'S' and grid[i+1][j+1] == 'M'):\n",
    "                    if (grid[i-1][j+1] == 'M' and grid[i+1][j-1] == 'S') or (grid[i-1][j+1] == 'S' and grid[i+1][j-1] == 'M'):\n",
    "                        count += 1\n",
    "\n",
    "    return count"
   ]
  },
  {
   "cell_type": "code",
   "execution_count": 22,
   "id": "72913258-d5d2-4012-a1b0-7f0c443ef628",
   "metadata": {},
   "outputs": [
    {
     "data": {
      "text/plain": [
       "1965"
      ]
     },
     "execution_count": 22,
     "metadata": {},
     "output_type": "execute_result"
    }
   ],
   "source": [
    "find_crosses(lines)"
   ]
  }
 ],
 "metadata": {
  "kernelspec": {
   "display_name": "Python 3 (ipykernel)",
   "language": "python",
   "name": "python3"
  },
  "language_info": {
   "codemirror_mode": {
    "name": "ipython",
    "version": 3
   },
   "file_extension": ".py",
   "mimetype": "text/x-python",
   "name": "python",
   "nbconvert_exporter": "python",
   "pygments_lexer": "ipython3",
   "version": "3.13.0"
  }
 },
 "nbformat": 4,
 "nbformat_minor": 5
}
